{
 "cells": [
  {
   "cell_type": "code",
   "execution_count": 1,
   "id": "cb47404b-64ba-4693-a3bf-642332268f3e",
   "metadata": {
    "tags": []
   },
   "outputs": [
    {
     "name": "stderr",
     "output_type": "stream",
     "text": [
      "<jemalloc>: MADV_DONTNEED does not work (memset will be used instead)\n",
      "<jemalloc>: (This is the expected behaviour if you are running under QEMU)\n"
     ]
    }
   ],
   "source": [
    "import numpy as np\n",
    "import pandas as pd\n",
    "import matplotlib.pyplot as plt"
   ]
  },
  {
   "cell_type": "code",
   "execution_count": 1,
   "id": "c7f3c5d2",
   "metadata": {},
   "outputs": [
    {
     "name": "stdout",
     "output_type": "stream",
     "text": [
      "Python Platform: macOS-13.2.1-arm64-arm-64bit\n",
      "Tensor Flow Version: 2.12.0\n",
      "Keras Version: 2.12.0\n",
      "\n",
      "Python 3.10.10 | packaged by conda-forge | (main, Mar 24 2023, 20:12:31) [Clang 14.0.6 ]\n",
      "Pandas 2.0.0\n",
      "Scikit-Learn 1.2.2\n",
      "GPU is available\n"
     ]
    }
   ],
   "source": [
    "import sys\n",
    "\n",
    "import tensorflow.keras\n",
    "import pandas as pd\n",
    "import sklearn as sk\n",
    "import tensorflow as tf\n",
    "import platform\n",
    "\n",
    "print(f\"Python Platform: {platform.platform()}\")\n",
    "print(f\"Tensor Flow Version: {tf.__version__}\")\n",
    "print(f\"Keras Version: {tensorflow.keras.__version__}\")\n",
    "print()\n",
    "print(f\"Python {sys.version}\")\n",
    "print(f\"Pandas {pd.__version__}\")\n",
    "print(f\"Scikit-Learn {sk.__version__}\")\n",
    "gpu = len(tf.config.list_physical_devices('GPU'))>0\n",
    "print(\"GPU is\", \"available\" if gpu else \"NOT AVAILABLE\")"
   ]
  },
  {
   "cell_type": "code",
   "execution_count": 2,
   "id": "84bc9b54-d3ab-4fa0-83de-665b43fc50bb",
   "metadata": {
    "tags": []
   },
   "outputs": [
    {
     "name": "stderr",
     "output_type": "stream",
     "text": [
      "2023-04-20 16:19:46.916689: I tensorflow/core/platform/cpu_feature_guard.cc:193] This TensorFlow binary is optimized with oneAPI Deep Neural Network Library (oneDNN) to use the following CPU instructions in performance-critical operations:  SSE4.1 SSE4.2\n",
      "To enable them in other operations, rebuild TensorFlow with the appropriate compiler flags.\n"
     ]
    }
   ],
   "source": [
    "from tensorflow.keras.datasets import mnist"
   ]
  },
  {
   "cell_type": "code",
   "execution_count": 8,
   "id": "2ac59610-e0da-439a-baaf-72368f84fefb",
   "metadata": {
    "tags": []
   },
   "outputs": [],
   "source": [
    "(x_train,y_train),(x_test, y_test) = mnist.load_data()"
   ]
  },
  {
   "cell_type": "code",
   "execution_count": 9,
   "id": "2877c939-a698-42f5-a59c-826574b73ed4",
   "metadata": {
    "tags": []
   },
   "outputs": [
    {
     "data": {
      "text/plain": [
       "<matplotlib.image.AxesImage at 0x40b801a380>"
      ]
     },
     "execution_count": 9,
     "metadata": {},
     "output_type": "execute_result"
    },
    {
     "data": {
      "image/png": "[encoded data removed]",
      "text/plain": [
       "<Figure size 640x480 with 1 Axes>"
      ]
     },
     "metadata": {},
     "output_type": "display_data"
    }
   ],
   "source": [
    "plt.imshow(x_train[0])"
   ]
  },
  {
   "cell_type": "code",
   "execution_count": 10,
   "id": "0570f953-4827-410e-a40b-f8edf1617b08",
   "metadata": {
    "tags": []
   },
   "outputs": [
    {
     "data": {
      "text/plain": [
       "array([5, 0, 4, ..., 5, 6, 8], dtype=uint8)"
      ]
     },
     "execution_count": 10,
     "metadata": {},
     "output_type": "execute_result"
    }
   ],
   "source": [
    "y_train"
   ]
  },
  {
   "cell_type": "code",
   "execution_count": 11,
   "id": "c1662ece-d9b7-415c-9689-2f54d09d3fee",
   "metadata": {
    "tags": []
   },
   "outputs": [],
   "source": [
    "single_digit = x_train[y_train==3]"
   ]
  },
  {
   "cell_type": "code",
   "execution_count": 12,
   "id": "cacec271-779c-4780-83b2-85f70e14f905",
   "metadata": {
    "tags": []
   },
   "outputs": [
    {
     "data": {
      "text/plain": [
       "(6131, 28, 28)"
      ]
     },
     "execution_count": 12,
     "metadata": {},
     "output_type": "execute_result"
    }
   ],
   "source": [
    "single_digit.shape"
   ]
  },
  {
   "cell_type": "code",
   "execution_count": 13,
   "id": "9fec7b97-34ce-4a80-b725-8be3f635363b",
   "metadata": {
    "tags": []
   },
   "outputs": [
    {
     "data": {
      "text/plain": [
       "<matplotlib.image.AxesImage at 0x40c3cfa560>"
      ]
     },
     "execution_count": 13,
     "metadata": {},
     "output_type": "execute_result"
    },
    {
     "data": {
      "image/png": "[encoded data removed]",
      "text/plain": [
       "<Figure size 640x480 with 1 Axes>"
      ]
     },
     "metadata": {},
     "output_type": "display_data"
    }
   ],
   "source": [
    "plt.imshow(single_digit[19])"
   ]
  },
  {
   "cell_type": "code",
   "execution_count": 3,
   "id": "74635384-bcd9-4db4-9771-a6e5ee84c619",
   "metadata": {
    "tags": []
   },
   "outputs": [],
   "source": [
    "import tensorflow as tf\n",
    "from tensorflow.keras.layers import Dense,Reshape, Dropout, LeakyReLU, Flatten, BatchNormalization, Conv2D, Conv2DTranspose\n",
    "from tensorflow.keras.models import Sequential"
   ]
  },
  {
   "cell_type": "code",
   "execution_count": 4,
   "id": "b5faed12-8528-4c13-826a-b08b58b9aeea",
   "metadata": {
    "tags": []
   },
   "outputs": [],
   "source": [
    "def reshape_img_dcgan(train,largest_val):\n",
    "    print(f\" The original min = {train.min()}\")\n",
    "    train = train/largest_val\n",
    "    train = train.reshape(-1,28,28,1)*2. -1.\n",
    "    print(f\" The new min = {train.min()}\")\n",
    "    return train.copy()"
   ]
  },
  {
   "cell_type": "code",
   "execution_count": 5,
   "id": "38143fc7-35e6-410b-b7d5-f3ba9866b528",
   "metadata": {
    "tags": []
   },
   "outputs": [],
   "source": [
    "def get_my_data(n:int):\n",
    "    (x_train,y_train),(x_test, y_test) = mnist.load_data()\n",
    "    x_train = reshape_img_dcgan(x_train,255)\n",
    "    return x_train[y_train == n]\n"
   ]
  },
  {
   "cell_type": "code",
   "execution_count": 6,
   "id": "402dbfed-a6b5-48e9-96d3-38d6e85b2907",
   "metadata": {
    "tags": []
   },
   "outputs": [
    {
     "name": "stdout",
     "output_type": "stream",
     "text": [
      "Downloading data from https://storage.googleapis.com/tensorflow/tf-keras-datasets/mnist.npz\n",
      "11490434/11490434 [==============================] - 0s 0us/step\n",
      " The original min = 0\n",
      " The new min = -1.0\n"
     ]
    }
   ],
   "source": [
    "my_data = get_my_data(3)"
   ]
  },
  {
   "cell_type": "code",
   "execution_count": 7,
   "id": "61d3b805-cf0d-46fa-b4a8-847ba4a2034d",
   "metadata": {
    "tags": []
   },
   "outputs": [],
   "source": [
    "np.random.seed(42)\n",
    "tf.random.set_seed(42)\n",
    "\n",
    "codings_size = 100\n",
    "kernel_size = 5"
   ]
  },
  {
   "cell_type": "code",
   "execution_count": 8,
   "id": "6f7e3cfd-91cd-41dc-b2bc-5147dc4e55f2",
   "metadata": {
    "tags": []
   },
   "outputs": [],
   "source": [
    "def get_generator(codings_sizen,kernel_size):\n",
    "    generator = Sequential()\n",
    "    generator.add(Dense(7 * 7 * 128,input_shape=[codings_size]))\n",
    "    generator.add(Reshape([7,7,128]))\n",
    "    generator.add(BatchNormalization())\n",
    "    generator.add(Conv2DTranspose(64, kernel_size = kernel_size,strides = 2, padding = 'same',activation = 'relu'))\n",
    "    generator.add(BatchNormalization())\n",
    "    generator.add(Dense(100,activation='relu'))\n",
    "    generator.add(Dense(784,activation='relu'))\n",
    "    generator.add(Conv2DTranspose(1, kernel_size = kernel_size,strides = 2, padding = 'same',activation = 'tanh'))\n",
    "    return generator\n",
    "   "
   ]
  },
  {
   "cell_type": "code",
   "execution_count": 9,
   "id": "129e1f92-a4d6-4754-a910-0d6e17fa8530",
   "metadata": {
    "tags": []
   },
   "outputs": [],
   "source": [
    "def get_discriminator(codings_size,kernel_size):\n",
    "    discriminator = Sequential()\n",
    "    discriminator.add(Conv2D(64, kernel_size = kernel_size,strides = 2, padding = 'same'\n",
    "                             ,activation = LeakyReLU(0.3)\n",
    "                            , input_shape = [28,28,1]))\n",
    "    \n",
    "    discriminator.add(Dropout(0.5))\n",
    "    discriminator.add(Conv2D(128, kernel_size = kernel_size,strides = 2, padding = 'same'\n",
    "                             ,activation = LeakyReLU(0.3)))\n",
    "    discriminator.add(Dropout(0.5))\n",
    "    discriminator.add(Flatten())\n",
    "    discriminator.add(Dense(1,activation='sigmoid'))\n",
    "    return discriminator"
   ]
  },
  {
   "cell_type": "code",
   "execution_count": 10,
   "id": "15576a23-b19f-4f8e-8005-45c0ad21d919",
   "metadata": {
    "tags": []
   },
   "outputs": [],
   "source": [
    "def get_dcgan(generator,discriminator):\n",
    "    return Sequential([generator,discriminator])"
   ]
  },
  {
   "cell_type": "code",
   "execution_count": 11,
   "id": "d8e829c0-83e0-4389-9db6-e3d5675ed611",
   "metadata": {
    "tags": []
   },
   "outputs": [
    {
     "name": "stderr",
     "output_type": "stream",
     "text": [
      "2023-04-20 16:20:21.281675: I tensorflow/core/platform/cpu_feature_guard.cc:193] This TensorFlow binary is optimized with oneAPI Deep Neural Network Library (oneDNN) to use the following CPU instructions in performance-critical operations:  SSE4.1 SSE4.2\n",
      "To enable them in other operations, rebuild TensorFlow with the appropriate compiler flags.\n"
     ]
    }
   ],
   "source": [
    "generator = get_generator(codings_size,kernel_size)\n",
    "discriminator = get_discriminator(codings_size,kernel_size)\n",
    "GAN = get_dcgan(generator,discriminator)"
   ]
  },
  {
   "cell_type": "code",
   "execution_count": 12,
   "id": "02d7fcfe-88e3-41f3-9b02-b842c228d516",
   "metadata": {
    "tags": []
   },
   "outputs": [],
   "source": [
    "discriminator.compile(loss = 'binary_crossentropy', optimizer = 'adam')\n",
    "discriminator.trainable = False\n",
    "GAN.compile(loss = 'binary_crossentropy', optimizer = 'adam')"
   ]
  },
  {
   "cell_type": "code",
   "execution_count": 14,
   "id": "0a9e94e4-17d1-4ee9-9e99-3755f125d5db",
   "metadata": {
    "tags": []
   },
   "outputs": [],
   "source": [
    "batch_size = 32\n",
    "my_data = my_data\n",
    "epochs=20"
   ]
  },
  {
   "cell_type": "code",
   "execution_count": 15,
   "id": "110e7231-d8d8-4c4c-98b2-251b0517f44b",
   "metadata": {
    "tags": []
   },
   "outputs": [
    {
     "data": {
      "text/plain": [
       "(6131, 28, 28, 1)"
      ]
     },
     "execution_count": 15,
     "metadata": {},
     "output_type": "execute_result"
    }
   ],
   "source": [
    "my_data.shape"
   ]
  },
  {
   "cell_type": "code",
   "execution_count": 16,
   "id": "ac05d70b-0f6c-4151-80d2-914c66570eff",
   "metadata": {
    "tags": []
   },
   "outputs": [],
   "source": [
    "dataset = tf.data.Dataset.from_tensor_slices(my_data).shuffle(buffer_size=1000)"
   ]
  },
  {
   "cell_type": "code",
   "execution_count": 17,
   "id": "fb2856af-4ea2-4e6c-8d7b-0271df4807f2",
   "metadata": {
    "tags": []
   },
   "outputs": [],
   "source": [
    "dataset = dataset.batch(batch_size,drop_remainder = True).prefetch(1)"
   ]
  },
  {
   "cell_type": "code",
   "execution_count": 18,
   "id": "ea7293fb-0f2a-4892-a0bb-f5a472c76258",
   "metadata": {
    "tags": []
   },
   "outputs": [
    {
     "name": "stdout",
     "output_type": "stream",
     "text": [
      "Model: \"sequential\"\n",
      "_________________________________________________________________\n",
      " Layer (type)                Output Shape              Param #   \n",
      "=================================================================\n",
      " dense (Dense)               (None, 6272)              633472    \n",
      "                                                                 \n",
      " reshape (Reshape)           (None, 7, 7, 128)         0         \n",
      "                                                                 \n",
      " batch_normalization (BatchN  (None, 7, 7, 128)        512       \n",
      " ormalization)                                                   \n",
      "                                                                 \n",
      " conv2d_transpose (Conv2DTra  (None, 14, 14, 64)       204864    \n",
      " nspose)                                                         \n",
      "                                                                 \n",
      " batch_normalization_1 (Batc  (None, 14, 14, 64)       256       \n",
      " hNormalization)                                                 \n",
      "                                                                 \n",
      " dense_1 (Dense)             (None, 14, 14, 100)       6500      \n",
      "                                                                 \n",
      " dense_2 (Dense)             (None, 14, 14, 784)       79184     \n",
      "                                                                 \n",
      " conv2d_transpose_1 (Conv2DT  (None, 28, 28, 1)        19601     \n",
      " ranspose)                                                       \n",
      "                                                                 \n",
      "=================================================================\n",
      "Total params: 944,389\n",
      "Trainable params: 944,005\n",
      "Non-trainable params: 384\n",
      "_________________________________________________________________\n"
     ]
    }
   ],
   "source": [
    "GAN.layers[0].summary()"
   ]
  },
  {
   "cell_type": "code",
   "execution_count": 19,
   "id": "28d6d29c-a2d0-4693-a570-0e2c27ab8894",
   "metadata": {
    "tags": []
   },
   "outputs": [
    {
     "name": "stdout",
     "output_type": "stream",
     "text": [
      "Model: \"sequential_1\"\n",
      "_________________________________________________________________\n",
      " Layer (type)                Output Shape              Param #   \n",
      "=================================================================\n",
      " conv2d (Conv2D)             (None, 14, 14, 64)        1664      \n",
      "                                                                 \n",
      " dropout (Dropout)           (None, 14, 14, 64)        0         \n",
      "                                                                 \n",
      " conv2d_1 (Conv2D)           (None, 7, 7, 128)         204928    \n",
      "                                                                 \n",
      " dropout_1 (Dropout)         (None, 7, 7, 128)         0         \n",
      "                                                                 \n",
      " flatten (Flatten)           (None, 6272)              0         \n",
      "                                                                 \n",
      " dense_3 (Dense)             (None, 1)                 6273      \n",
      "                                                                 \n",
      "=================================================================\n",
      "Total params: 212,865\n",
      "Trainable params: 0\n",
      "Non-trainable params: 212,865\n",
      "_________________________________________________________________\n"
     ]
    }
   ],
   "source": [
    "GAN.layers[1].summary()"
   ]
  },
  {
   "cell_type": "code",
   "execution_count": 20,
   "id": "fb860d48-12a4-4f02-b85d-8130bb3aa8e5",
   "metadata": {
    "tags": []
   },
   "outputs": [],
   "source": [
    "def train_dcgan():\n",
    "    generator, discriminator = GAN.layers\n",
    "\n",
    "    for epoch in range(epochs):\n",
    "        print(f\"currently on epoch = {epoch+1}\")\n",
    "        i = 0\n",
    "        for x_batch in dataset:\n",
    "            i = i+1\n",
    "            if i%20 == 0:\n",
    "                print(f\"\\t currently on batch number {i} of {len(my_data)//batch_size}\")\n",
    "\n",
    "            # Discriminator\n",
    "            noise = tf.random.normal(shape=[batch_size,codings_size])\n",
    "            gen_images = generator(noise)\n",
    "            x_fake_vs_real = tf.concat([gen_images,tf.dtypes.cast(x_batch,tf.float32)],axis=0)\n",
    "            y1 = tf.constant([[0.0]]*batch_size + [[1.0]]*batch_size)\n",
    "            discriminator.trainable = True\n",
    "\n",
    "            discriminator.train_on_batch(x_fake_vs_real,y1)\n",
    "\n",
    "            # Train Generator\n",
    "            noise = tf.random.normal(shape=[batch_size,codings_size])\n",
    "            y2 = tf.constant([[1.0]]*batch_size)\n",
    "            discriminator.trainable = False\n",
    "\n",
    "            GAN.train_on_batch(noise,y2)\n",
    "    return GAN\n",
    "## Generator soon learns a pattern that always fools the discriminator and keeps repeating the pattern\n",
    "## one way to get out of this is to maintain a replay buffer and drop images that are already generated\n",
    "        \n",
    "    "
   ]
  },
  {
   "cell_type": "code",
   "execution_count": null,
   "id": "1294e2bb-2d00-4e66-91e1-0dedad3b6010",
   "metadata": {
    "tags": []
   },
   "outputs": [
    {
     "name": "stdout",
     "output_type": "stream",
     "text": [
      "currently on epoch = 1\n"
     ]
    },
    {
     "name": "stderr",
     "output_type": "stream",
     "text": [
      "2023-04-20 16:21:41.073398: W tensorflow/tsl/platform/profile_utils/cpu_utils.cc:118] Failed to find bogomips or clock in /proc/cpuinfo; cannot determine CPU frequency\n"
     ]
    },
    {
     "name": "stdout",
     "output_type": "stream",
     "text": [
      "\t currently on batch number 20 of 191\n",
      "\t currently on batch number 40 of 191\n",
      "\t currently on batch number 60 of 191\n",
      "\t currently on batch number 80 of 191\n"
     ]
    }
   ],
   "source": [
    "GAN = train_dcgan()"
   ]
  },
  {
   "cell_type": "code",
   "execution_count": 120,
   "id": "136f8aa8-1ac4-4d5c-8c9c-0b4ec8ee5add",
   "metadata": {
    "tags": []
   },
   "outputs": [],
   "source": [
    "noise = tf.random.normal(shape=[10,coding_size])"
   ]
  },
  {
   "cell_type": "code",
   "execution_count": 121,
   "id": "366fdd63-6d22-4902-b1af-8b955f8f9856",
   "metadata": {
    "tags": []
   },
   "outputs": [
    {
     "data": {
      "text/plain": [
       "TensorShape([10, 100])"
      ]
     },
     "execution_count": 121,
     "metadata": {},
     "output_type": "execute_result"
    }
   ],
   "source": [
    "noise.shape"
   ]
  },
  {
   "cell_type": "code",
   "execution_count": 122,
   "id": "a09f5400-e20d-46cc-8c86-0ccbbdaffe44",
   "metadata": {
    "tags": []
   },
   "outputs": [
    {
     "data": {
      "text/plain": [
       "<matplotlib.image.AxesImage at 0x5f3d297a90>"
      ]
     },
     "execution_count": 122,
     "metadata": {},
     "output_type": "execute_result"
    },
    {
     "data": {
      "image/png": "[encoded data removed]",
      "text/plain": [
       "<Figure size 640x480 with 1 Axes>"
      ]
     },
     "metadata": {},
     "output_type": "display_data"
    }
   ],
   "source": [
    "plt.imshow(noise)"
   ]
  },
  {
   "cell_type": "code",
   "execution_count": 123,
   "id": "c27b4909-144e-4ae2-aaf7-30b0b05c191f",
   "metadata": {
    "tags": []
   },
   "outputs": [],
   "source": [
    "images = GAN.layers[0](noise)"
   ]
  },
  {
   "cell_type": "code",
   "execution_count": 124,
   "id": "82a8c290-bd34-4bc7-98b4-ac10e5fbd54c",
   "metadata": {
    "tags": []
   },
   "outputs": [
    {
     "data": {
      "text/plain": [
       "TensorShape([10, 28, 28])"
      ]
     },
     "execution_count": 124,
     "metadata": {},
     "output_type": "execute_result"
    }
   ],
   "source": [
    "images.shape"
   ]
  },
  {
   "cell_type": "code",
   "execution_count": 125,
   "id": "889f7d78-cee2-49f6-9b86-76d25a09ff24",
   "metadata": {
    "tags": []
   },
   "outputs": [
    {
     "data": {
      "image/png": "[encoded data removed]",
      "text/plain": [
       "<Figure size 640x480 with 1 Axes>"
      ]
     },
     "metadata": {},
     "output_type": "display_data"
    }
   ],
   "source": [
    "for i in images:\n",
    "    plt.imshow(i)"
   ]
  },
  {
   "cell_type": "code",
   "execution_count": 126,
   "id": "75f305c7-1bfe-4c7e-a0a7-b27f5c5d073c",
   "metadata": {
    "tags": []
   },
   "outputs": [
    {
     "data": {
      "text/plain": [
       "<matplotlib.image.AxesImage at 0x6e403ec6d0>"
      ]
     },
     "execution_count": 126,
     "metadata": {},
     "output_type": "execute_result"
    },
    {
     "data": {
      "image/png": "[encoded data removed]",
      "text/plain": [
       "<Figure size 640x480 with 1 Axes>"
      ]
     },
     "metadata": {},
     "output_type": "display_data"
    }
   ],
   "source": [
    "plt.imshow(images[0])"
   ]
  },
  {
   "cell_type": "code",
   "execution_count": 127,
   "id": "44dd801c-9f1a-4b4c-a822-bc95e97f30e4",
   "metadata": {
    "tags": []
   },
   "outputs": [
    {
     "data": {
      "text/plain": [
       "<matplotlib.image.AxesImage at 0x6e4043f760>"
      ]
     },
     "execution_count": 127,
     "metadata": {},
     "output_type": "execute_result"
    },
    {
     "data": {
      "image/png": "[encoded data removed]",
      "text/plain": [
       "<Figure size 640x480 with 1 Axes>"
      ]
     },
     "metadata": {},
     "output_type": "display_data"
    }
   ],
   "source": [
    "plt.imshow(images[1])"
   ]
  },
  {
   "cell_type": "code",
   "execution_count": 128,
   "id": "57f000eb-4244-4b07-bf98-2f1ec5300149",
   "metadata": {
    "tags": []
   },
   "outputs": [
    {
     "data": {
      "text/plain": [
       "<matplotlib.image.AxesImage at 0x6e404bc1c0>"
      ]
     },
     "execution_count": 128,
     "metadata": {},
     "output_type": "execute_result"
    },
    {
     "data": {
      "image/png": "[encoded data removed]",
      "text/plain": [
       "<Figure size 640x480 with 1 Axes>"
      ]
     },
     "metadata": {},
     "output_type": "display_data"
    }
   ],
   "source": [
    "plt.imshow(images[2])"
   ]
  },
  {
   "cell_type": "code",
   "execution_count": 129,
   "id": "8bb129b1-a7ec-4210-a8ae-11985fffcc98",
   "metadata": {
    "tags": []
   },
   "outputs": [
    {
     "data": {
      "text/plain": [
       "<matplotlib.image.AxesImage at 0x6e408bd240>"
      ]
     },
     "execution_count": 129,
     "metadata": {},
     "output_type": "execute_result"
    },
    {
     "data": {
      "image/png": "[encoded data removed]",
      "text/plain": [
       "<Figure size 640x480 with 1 Axes>"
      ]
     },
     "metadata": {},
     "output_type": "display_data"
    }
   ],
   "source": [
    "plt.imshow(images[4])"
   ]
  },
  {
   "cell_type": "code",
   "execution_count": null,
   "id": "4668bb5f-d501-4328-842f-1fd5f4b69e26",
   "metadata": {},
   "outputs": [],
   "source": []
  }
 ],
 "metadata": {
  "kernelspec": {
   "display_name": "python 3.10 (ml)",
   "language": "python",
   "name": "ml-tensorflow"
  },
  "language_info": {
   "codemirror_mode": {
    "name": "ipython",
    "version": 3
   },
   "file_extension": ".py",
   "mimetype": "text/x-python",
   "name": "python",
   "nbconvert_exporter": "python",
   "pygments_lexer": "ipython3",
   "version": "3.10.10"
  }
 },
 "nbformat": 4,
 "nbformat_minor": 5
}
