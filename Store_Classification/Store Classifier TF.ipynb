{
 "cells": [
  {
   "cell_type": "code",
   "execution_count": 1,
   "id": "1068e9eb",
   "metadata": {},
   "outputs": [],
   "source": [
    "# we create a function to oobfuscate the store names and introduce impurities for the sake of this excercise\n",
    "# Scrapped or OCR results could be much more random and unpredictable.\n",
    "import string\n",
    "import random \n",
    "import numpy as np \n",
    "import pandas as pd\n",
    "\n",
    "# Using seen dictionary to generate all unique values\n",
    "# Main goal here is to ensure there is no cross category contamination\n",
    "# 1 input has single label, that model does not get confused\n",
    "seen = {}\n",
    "\n",
    "def gen_impurities(n,word):\n",
    "    for i in range(n):\n",
    "        index = random.randint(0,len(word)-1)\n",
    "        #print(f\"impute index - {index}\")\n",
    "\n",
    "        if index%2 == 0:\n",
    "            symbol = random.choice(string.punctuation)\n",
    "            #print(f\"Symbol = {symbol}\")\n",
    "            word = word[:index] + symbol + word[index:]\n",
    "\n",
    "        if index%7 == 0:\n",
    "            num = random.choice(string.digits)\n",
    "            #print(f\"Number = {num}\")\n",
    "            word = word[:index] + str(num) + word[index:]\n",
    "\n",
    "        if index%3 == 0:\n",
    "            word.replace(word[index],\"\")\n",
    "    return word\n",
    "\n",
    "def obfuscate(word):\n",
    "    n = int(len(word)*0.5)\n",
    "#     print(n)\n",
    "    iteration = random.randint(1,n)\n",
    "#     print(iteration)\n",
    "    label = word\n",
    "    for i in range(5):\n",
    "        imputed_word = gen_impurities(iteration,label)\n",
    "#         print(imputed_word)\n",
    "        if imputed_word not in seen:\n",
    "            seen[imputed_word] = 1\n",
    "            return imputed_word\n",
    "        seen[imputed_word] = seen[imputed_word]+1\n",
    "    return word\n",
    "            \n",
    "\n",
    "def gen_gibberish(min_l,max_l):\n",
    "    # initializing size of string\n",
    "    l = random.randint(min_l,max_l)\n",
    "    # using random.choices()\n",
    "    # generating random strings\n",
    "    res = ''.join(random.choices(string.ascii_uppercase +\n",
    "                                 string.punctuation +\n",
    "                                 string.digits, k=l))\n",
    "    while res not in seen:    \n",
    "        seen[res] = 1\n",
    "        return res\n",
    "    seen[res] = seen[res]+1\n",
    "    "
   ]
  },
  {
   "cell_type": "code",
   "execution_count": 2,
   "id": "0e5b11a4",
   "metadata": {},
   "outputs": [],
   "source": [
    "# Lets take top 100 US retailers arbitarily chosen based on their annual reported Sales\n",
    "\n",
    "def read_data():\n",
    "    df = pd.read_csv(\"stores.csv\")\n",
    "    del df['empty']\n",
    "    df = df.set_index('no')\n",
    "    df.head()\n",
    "    return df\n"
   ]
  },
  {
   "cell_type": "code",
   "execution_count": 3,
   "id": "14a9a304",
   "metadata": {},
   "outputs": [],
   "source": [
    "# this function will muddle up the stores to simulate real world data capture where system might introduce impurites\n",
    "# the function will generate n number of instances for muddled data\n",
    "\n",
    "# n indicates number of obfuscated records\n",
    "# instance_count is the number of observation per class\n",
    "\n",
    "def get_obfuscated_stores(stores,n):\n",
    "    obfuscate_stores = stores * n\n",
    "    obfuscate_stores.sort()\n",
    "    df_obfuscated = pd.DataFrame({\"stores\": obfuscate_stores})\n",
    "    df_obfuscated['bad_names'] = df_obfuscated[\"stores\"].apply(lambda x: obfuscate(x) )\n",
    "    return df_obfuscated\n",
    "    \n",
    "def get_catch_gibberish(instance_count,min_l,max_l):\n",
    "    others = ['Other'] * instance_count\n",
    "    df_other = pd.DataFrame({'stores':others})\n",
    "    df_other['bad_names'] = df_other['stores'].apply(lambda x : gen_gibberish(min_l,max_l)) \n",
    "    return df_other\n",
    "\n",
    "# the training set will also have good captures where store name was interpreted correctly\n",
    "# for this purpose the we are creagin 10% bad captures\n",
    "\n",
    "def get_good_names(stores,n):\n",
    "    good_captures = stores*  n\n",
    "    df_good_captures = pd.DataFrame({'stores':good_captures})\n",
    "    df_good_captures['bad_names'] = df_good_captures[\"stores\"]\n",
    "    return df_good_captures\n",
    "\n",
    "def get_data(impute_n,instance,min_l,max_l): \n",
    "    n = impute_n\n",
    "    instance_count = instance\n",
    "    min_l = min_l\n",
    "    max_l = max_l\n",
    "\n",
    "    df_obfuscated = get_obfuscated_stores(stores,n)\n",
    "    df_other = get_catch_gibberish(instance_count,min_l,max_l)\n",
    "    df_good_captures = repeat_good_names(stores,n,instance_count)\n",
    "    df = pd.concat([df_obfuscated,df_good_captures,df_other])\n",
    "    return df\n"
   ]
  },
  {
   "cell_type": "code",
   "execution_count": 4,
   "id": "58c9de70",
   "metadata": {},
   "outputs": [],
   "source": [
    "# this function will muddle up the stores to simulate real world data capture where system might introduce impurites\n",
    "# the function will generate n number of instances for jumbled data\n",
    "\n",
    "# n indicates number of obfuscated records\n",
    "# instance_count is the number of observation per class\n",
    "\n",
    "def get_obfuscated_stores(stores,n):\n",
    "    \"\"\"\n",
    "        This functions takes the stores list\n",
    "        Repeats it n times\n",
    "        calls teh obfuscate function to generate dirty names\n",
    "    \"\"\"\n",
    "    obfuscate_stores = stores * n\n",
    "    obfuscate_stores.sort()\n",
    "    df_obfuscated = pd.DataFrame({\"stores\": obfuscate_stores})\n",
    "    df_obfuscated['bad_names'] = df_obfuscated[\"stores\"].apply(lambda x: obfuscate(x) )\n",
    "    return df_obfuscated\n",
    "    \n",
    "def get_catch_gibberish(instance_count,min_l,max_l):\n",
    "    others = ['Other'] * instance_count\n",
    "    df_other = pd.DataFrame({'stores':others})\n",
    "    df_other['bad_names'] = df_other['stores'].apply(lambda x : gen_gibberish(min_l,max_l)) \n",
    "    return df_other\n",
    "\n",
    "# the training set will also have good captures where store name was interpreted correctly\n",
    "# for this purpose the we are creagin 10% bad captures\n",
    "\n",
    "def get_good_names(stores,n):\n",
    "    good_captures = stores*  n\n",
    "    df_good_captures = pd.DataFrame({'stores':good_captures})\n",
    "    df_good_captures['bad_names'] = df_good_captures[\"stores\"]\n",
    "    return df_good_captures\n",
    "\n",
    "def get_data(impute_n,instance,min_l,max_l): \n",
    "    n = impute_n\n",
    "    instance_count = instance\n",
    "    min_l = min_l\n",
    "    max_l = max_l\n",
    "\n",
    "    df_obfuscated = get_obfuscated_stores(stores,n)\n",
    "    df_other = get_catch_gibberish(instance_count,min_l,max_l)\n",
    "    df_good_captures = repeat_good_names(stores,n,instance_count)\n",
    "    df = pd.concat([df_obfuscated,df_good_captures,df_other])\n",
    "    return df\n"
   ]
  },
  {
   "cell_type": "code",
   "execution_count": 5,
   "id": "ea6e4262",
   "metadata": {},
   "outputs": [],
   "source": [
    "def get_train_test_data(split_ratio,impute_ratio,instance,min_l,max_l):\n",
    "    test_size = (instance*split_ratio)\n",
    "    train_size = (instance*(1-split_ratio))\n",
    "    print(f\"test_size = {test_size} & train_size = {train_size} & split = {split_ratio}\")\n",
    "    test_impute_n = int(test_size*impute_ratio)\n",
    "    test_good_n = int(test_size - test_impute_n)\n",
    "    print(f\"test impute = {test_impute_n} & instances = {test_good_n}\")\n",
    "    df = read_data()\n",
    "    stores = list(df[\"store\"])\n",
    "    # get imputed\n",
    "    df_obfuscated = get_obfuscated_stores(stores,test_impute_n)\n",
    "    # get good names\n",
    "    df_good_names = get_good_names(stores, test_good_n)\n",
    "    # get others \n",
    "    df_other = get_catch_gibberish(test_impute_n+test_good_n,min_l,max_l)\n",
    "    df_test = pd.concat([df_obfuscated,df_good_names,df_other])\n",
    "    \n",
    "    del df_obfuscated,df_good_names,df_other\n",
    "    train_impute_n = int(train_size*impute_ratio)\n",
    "    train_good_n = int(train_size - train_impute_n)\n",
    "    # get imputed\n",
    "    df_obfuscated = get_obfuscated_stores(stores,train_impute_n)\n",
    "    # get good names\n",
    "    df_good_names = get_good_names(stores, train_good_n)\n",
    "    # get others \n",
    "    df_other = get_catch_gibberish(train_impute_n+train_good_n,min_l,max_l)\n",
    "    \n",
    "    df_train = pd.concat([df_obfuscated,df_good_names,df_other])\n",
    "    \n",
    "    del df_obfuscated,df_good_names,df_other\n",
    "    return df_train, df_test\n",
    "    \n",
    "    "
   ]
  },
  {
   "cell_type": "code",
   "execution_count": 6,
   "id": "1de37007",
   "metadata": {},
   "outputs": [
    {
     "name": "stdout",
     "output_type": "stream",
     "text": [
      "test_size = 2000.0 & train_size = 8000.0 & split = 0.2\n",
      "test impute = 1000 & instances = 1000\n"
     ]
    }
   ],
   "source": [
    "df_train, df_test = get_train_test_data(0.2,0.5,10000,5,20)"
   ]
  },
  {
   "cell_type": "code",
   "execution_count": 147,
   "id": "9daf56a0",
   "metadata": {},
   "outputs": [],
   "source": [
    "t = df_train.groupby('bad_names').count()"
   ]
  },
  {
   "cell_type": "code",
   "execution_count": 152,
   "id": "d650b200",
   "metadata": {},
   "outputs": [],
   "source": [
    "t.reset_index(inplace=True)\n",
    "t = t.rename(columns = {'index':'bad_names'})\n"
   ]
  },
  {
   "cell_type": "code",
   "execution_count": 155,
   "id": "53b4074d",
   "metadata": {},
   "outputs": [
    {
     "data": {
      "text/html": [
       "<div>\n",
       "<style scoped>\n",
       "    .dataframe tbody tr th:only-of-type {\n",
       "        vertical-align: middle;\n",
       "    }\n",
       "\n",
       "    .dataframe tbody tr th {\n",
       "        vertical-align: top;\n",
       "    }\n",
       "\n",
       "    .dataframe thead th {\n",
       "        text-align: right;\n",
       "    }\n",
       "</style>\n",
       "<table border=\"1\" class=\"dataframe\">\n",
       "  <thead>\n",
       "    <tr style=\"text-align: right;\">\n",
       "      <th></th>\n",
       "      <th>bad_names</th>\n",
       "      <th>stores</th>\n",
       "    </tr>\n",
       "  </thead>\n",
       "  <tbody>\n",
       "    <tr>\n",
       "      <th>86087</th>\n",
       "      <td>7-Eleven</td>\n",
       "      <td>4943</td>\n",
       "    </tr>\n",
       "    <tr>\n",
       "      <th>117765</th>\n",
       "      <td>AT&amp;T Wireless</td>\n",
       "      <td>4643</td>\n",
       "    </tr>\n",
       "    <tr>\n",
       "      <th>120951</th>\n",
       "      <td>AVB Brandsource</td>\n",
       "      <td>4424</td>\n",
       "    </tr>\n",
       "    <tr>\n",
       "      <th>123879</th>\n",
       "      <td>Academy Sports</td>\n",
       "      <td>4505</td>\n",
       "    </tr>\n",
       "    <tr>\n",
       "      <th>125529</th>\n",
       "      <td>Ace Hardware</td>\n",
       "      <td>4638</td>\n",
       "    </tr>\n",
       "    <tr>\n",
       "      <th>...</th>\n",
       "      <td>...</td>\n",
       "      <td>...</td>\n",
       "    </tr>\n",
       "    <tr>\n",
       "      <th>323716</th>\n",
       "      <td>Wayfair</td>\n",
       "      <td>5346</td>\n",
       "    </tr>\n",
       "    <tr>\n",
       "      <th>326851</th>\n",
       "      <td>Wegmans Food Market</td>\n",
       "      <td>4311</td>\n",
       "    </tr>\n",
       "    <tr>\n",
       "      <th>328183</th>\n",
       "      <td>Weis Markets</td>\n",
       "      <td>4600</td>\n",
       "    </tr>\n",
       "    <tr>\n",
       "      <th>331787</th>\n",
       "      <td>Williams-Sonoma</td>\n",
       "      <td>4389</td>\n",
       "    </tr>\n",
       "    <tr>\n",
       "      <th>333173</th>\n",
       "      <td>WinCo Foods</td>\n",
       "      <td>4725</td>\n",
       "    </tr>\n",
       "  </tbody>\n",
       "</table>\n",
       "<p>100 rows × 2 columns</p>\n",
       "</div>"
      ],
      "text/plain": [
       "                  bad_names  stores\n",
       "86087              7-Eleven    4943\n",
       "117765        AT&T Wireless    4643\n",
       "120951      AVB Brandsource    4424\n",
       "123879       Academy Sports    4505\n",
       "125529         Ace Hardware    4638\n",
       "...                     ...     ...\n",
       "323716              Wayfair    5346\n",
       "326851  Wegmans Food Market    4311\n",
       "328183         Weis Markets    4600\n",
       "331787      Williams-Sonoma    4389\n",
       "333173          WinCo Foods    4725\n",
       "\n",
       "[100 rows x 2 columns]"
      ]
     },
     "execution_count": 155,
     "metadata": {},
     "output_type": "execute_result"
    }
   ],
   "source": [
    "t[t['stores'] >1]"
   ]
  },
  {
   "cell_type": "code",
   "execution_count": 7,
   "id": "6eb513ac",
   "metadata": {},
   "outputs": [
    {
     "name": "stdout",
     "output_type": "stream",
     "text": [
      "len test stores = 101\n",
      "len train stores = 101\n"
     ]
    }
   ],
   "source": [
    "print(f\"len test stores = {len(set(df_test['stores']))}\")\n",
    "print(f\"len train stores = {len(set(df_train['stores']))}\")"
   ]
  },
  {
   "cell_type": "code",
   "execution_count": 8,
   "id": "304398bf",
   "metadata": {},
   "outputs": [],
   "source": [
    "#from sklearn.model_selection import train_test_split\n",
    "def get_train_test_split(df_train,df_test,one_hot_encode_labels=False):\n",
    "    X_train = df_train[\"bad_names\"].values\n",
    "    y_train = df_train[\"stores\"].values\n",
    "    X_test  = df_test[\"bad_names\"].values\n",
    "    y_test  = df_test[\"stores\"].values\n",
    "    \n",
    "    if one_hot_encode_labels:\n",
    "        df_labels = pd.concat([df_train['stores'],df_test['stores']])\n",
    "        print(f\"Labels = {df_labels.shape})\")\n",
    "        lables = pd.get_dummies(df_labels)\n",
    "        lookup = list(lables.columns)\n",
    "        print(len(lookup))\n",
    "        del df_labels\n",
    "        y_test_labels = pd.get_dummies(y_test)\n",
    "        y_test_encoded = y_test_labels.astype('float32').values\n",
    "        y_train_labels = pd.get_dummies(y_train)\n",
    "        y_train_encoded = y_train_labels.astype('float32').values\n",
    "        return X_train,y_train_encoded,X_test,y_test_encoded, lookup\n",
    "    else:\n",
    "        return X_train, y_train, X_test, y_test, None\n",
    "    "
   ]
  },
  {
   "cell_type": "code",
   "execution_count": 9,
   "id": "78fbc725",
   "metadata": {},
   "outputs": [],
   "source": [
    "\n",
    "X_train, y_train, X_test, y_test, lable_lookup = get_train_test_split(df_train,\n",
    "                                                                      df_test,\n",
    "                                                                      one_hot_encode_labels=False)\n"
   ]
  },
  {
   "cell_type": "code",
   "execution_count": 10,
   "id": "cd812a1d",
   "metadata": {},
   "outputs": [
    {
     "name": "stdout",
     "output_type": "stream",
     "text": [
      "Shape of X train - (808000,)\n",
      "Shape of y train - (808000,)\n",
      "shape of X test - (202000,)\n",
      "shape of y test (202000,)\n",
      "Test labels y train - 101\n",
      "Test labels X train - 335118\n",
      "Test labels y test - 101\n",
      "Test labels X test - 94379\n"
     ]
    }
   ],
   "source": [
    "print(f\"Shape of X train - {X_train.shape}\")\n",
    "print(f\"Shape of y train - {y_train.shape}\")\n",
    "print(f\"shape of X test - {X_test.shape}\")\n",
    "print(f\"shape of y test {y_test.shape}\")\n",
    "print(f\"Test labels y train - {len(set(y_train))}\")\n",
    "print(f\"Test labels X train - {len(set(X_train))}\")\n",
    "print(f\"Test labels y test - {len(set(y_test))}\")\n",
    "print(f\"Test labels X test - {len(set(X_test))}\")"
   ]
  },
  {
   "cell_type": "code",
   "execution_count": 11,
   "id": "f9e10555",
   "metadata": {},
   "outputs": [
    {
     "name": "stdout",
     "output_type": "stream",
     "text": [
      "['PetSmart', 'Academy Sports', 'Sprouts Farmers Market', 'Bed Bath & Beyond', 'Walmart', 'Michaels Stores', 'J.C. Penney Company', 'Signet Jewelers', 'The Kroger Co.', 'CVS Health Corporation', 'Urban Outfitters', 'Harbor Freight Tools', 'My Demoulas', 'Advance Auto', 'Hy Vee', 'Qurate Retail', 'TJX Companies', 'Hobby Lobby Stores', 'Weis Markets', 'Bath & Body Works', 'Defense Commissary Agency', 'RH', \"BJ's Wholesale Club\", 'Bass Pro', 'Giant Eagle', 'Albertsons Companies', 'Golub', 'Williams-Sonoma', \"Dillard's\", 'Aldi', 'Wakefern / ShopRite', \"Dick's Sporting Goods\", 'AutoZone', \"Hudson's Bay\", 'Office Depot', 'Ikea North America Services', 'Barnes & Noble', 'Wayfair', 'Target', 'Good Neighbor Pharmacy', 'WinCo Foods', 'Publix Super Markets', 'Tapestry', 'Exxon Mobil Corporation', 'Meijer', 'Menards', 'AT&T Wireless', 'Wegmans Food Market', 'Ingles', 'Alimentation Couche-Tard', 'Petco', 'Ross Stores', 'Burlington', 'Other', \"Lowe's Companies\", 'American Eagle Outfitters', 'Total Wine & More', \"Victoria's Secret\", \"Casey's General Store\", 'Verizon Wireless', 'Chewy.com', 'Nordstrom', 'Tractor Supply Co.', 'Discount Tire', '7-Eleven', 'Staples', 'Save-A-Lot', 'Walgreens Boots Alliance', 'Sherwin-Williams', \"Macy's\", 'The Home Depot', 'H.E. Butt Grocery', 'True Value Co.', 'Amazon.com', 'Shell Oil Company', 'Gap', 'Royal Ahold Delhaize USA', 'Southeastern Grocers', 'Save Mart', 'Ulta Beauty', 'Sephora (LVMH)', 'Costco Wholesale', 'Army and Air Force Exchange Service', 'Camping World', 'Big Lots', 'Stater Bros Holdings', 'Lululemon', 'AVB Brandsource', 'Rite Aid', 'Piggly Wiggly', 'Dell Technologies', 'Smart & Final', 'O’Reilly Auto Parts', 'Best Buy', 'Health Mart Systems', \"Kohl's\", 'Ace Hardware', 'Apple Stores / iTunes', 'Dollar General', 'Foot Locker', 'Dollar Tree']\n"
     ]
    }
   ],
   "source": [
    "LABELS = list(set(y_train))\n",
    "print(LABELS)\n",
    "\n",
    "def labels_to_index(label,labels=LABELS):\n",
    "    return labels.index(label)\n",
    "\n",
    "def index_to_labels(idx,labels=LABELS):\n",
    "    return labels[idx]\n",
    "\n",
    "def index_to_labels_arr(arr,labels=LABELS):\n",
    "    return labels[np.argmax(arr)]"
   ]
  },
  {
   "cell_type": "code",
   "execution_count": 12,
   "id": "886bc214",
   "metadata": {},
   "outputs": [],
   "source": [
    "## Create indexed classes\n",
    "y_train_tx = [labels_to_index(y) for y in y_train]\n",
    "y_test_tx = [labels_to_index(y) for y in y_test]"
   ]
  },
  {
   "cell_type": "code",
   "execution_count": 13,
   "id": "07c359bd",
   "metadata": {},
   "outputs": [
    {
     "name": "stdout",
     "output_type": "stream",
     "text": [
      " y train indexed class - 64\n",
      " y train label 7-Eleven\n",
      " y test indexed class - 7-Eleven\n",
      " y test indexed class - 64\n"
     ]
    }
   ],
   "source": [
    "print(f\" y train indexed class - {y_train_tx[0]}\")\n",
    "print(f\" y train label {y_train[0]}\")\n",
    "print(f\" y test indexed class - {y_test[0]}\")\n",
    "print(f\" y test indexed class - {y_test_tx[0]}\")"
   ]
  },
  {
   "cell_type": "code",
   "execution_count": 14,
   "id": "212c29d3",
   "metadata": {},
   "outputs": [],
   "source": [
    "import tensorflow as tf\n",
    "from tensorflow.keras import layers\n",
    "from tensorflow.keras import losses"
   ]
  },
  {
   "cell_type": "code",
   "execution_count": 16,
   "id": "d9240e14",
   "metadata": {},
   "outputs": [],
   "source": [
    "import re\n",
    "def custom_standardization(input_data):\n",
    "    lowercase = tf.strings.lower(input_data)\n",
    "    return tf.strings.regex_replace(lowercase,\n",
    "                                  '[%s]' % re.escape(string.punctuation),\n",
    "                                  '')"
   ]
  },
  {
   "cell_type": "code",
   "execution_count": 17,
   "id": "680e4432",
   "metadata": {},
   "outputs": [],
   "source": [
    "max_features = 100\n",
    "sequence_length = 50\n",
    "\n",
    "vectorize_layer = layers.TextVectorization(\n",
    "    standardize=custom_standardization,\n",
    "    split = 'character',\n",
    "    max_tokens=max_features,\n",
    "    output_mode='int',\n",
    "    output_sequence_length=sequence_length)"
   ]
  },
  {
   "cell_type": "code",
   "execution_count": 18,
   "id": "1464aa6e",
   "metadata": {},
   "outputs": [
    {
     "name": "stderr",
     "output_type": "stream",
     "text": [
      "2023-05-25 08:36:43.167322: W tensorflow/tsl/platform/profile_utils/cpu_utils.cc:128] Failed to get CPU frequency: 0 Hz\n"
     ]
    }
   ],
   "source": [
    "train_text = raw_train.map(lambda x, y: x)\n",
    "vectorize_layer.adapt(train_text)"
   ]
  },
  {
   "cell_type": "code",
   "execution_count": 19,
   "id": "2ef59846",
   "metadata": {},
   "outputs": [
    {
     "data": {
      "text/plain": [
       "['',\n",
       " '[UNK]',\n",
       " 'e',\n",
       " ' ',\n",
       " 'a',\n",
       " 'o',\n",
       " 's',\n",
       " 'r',\n",
       " 't',\n",
       " 'l',\n",
       " 'i',\n",
       " 'n',\n",
       " 'c',\n",
       " 'm',\n",
       " 'h',\n",
       " 'd',\n",
       " 'b',\n",
       " 'p',\n",
       " 'g',\n",
       " 'u',\n",
       " 'y',\n",
       " 'w',\n",
       " 'f',\n",
       " 'v',\n",
       " 'k',\n",
       " 'j',\n",
       " 'x',\n",
       " '7',\n",
       " 'z',\n",
       " '3',\n",
       " '8',\n",
       " '2',\n",
       " '0',\n",
       " '1',\n",
       " '6',\n",
       " '9',\n",
       " '4',\n",
       " '5',\n",
       " 'q',\n",
       " '’']"
      ]
     },
     "execution_count": 19,
     "metadata": {},
     "output_type": "execute_result"
    }
   ],
   "source": [
    "vectorize_layer.get_vocabulary()"
   ]
  },
  {
   "cell_type": "code",
   "execution_count": 117,
   "id": "fda4151a",
   "metadata": {},
   "outputs": [],
   "source": [
    "def vectorize_text(text, label):\n",
    "    text = tf.expand_dims(text, -1)\n",
    "    return vectorize_layer(text)[0], label"
   ]
  },
  {
   "cell_type": "code",
   "execution_count": 21,
   "id": "43b9a666",
   "metadata": {},
   "outputs": [
    {
     "name": "stdout",
     "output_type": "stream",
     "text": [
      "3 --->   \n",
      " 30 --->  8\n",
      "Vocabulary size: 40\n"
     ]
    }
   ],
   "source": [
    "print(\"3 ---> \",vectorize_layer.get_vocabulary()[3])\n",
    "print(\" 30 ---> \",vectorize_layer.get_vocabulary()[30])\n",
    "print('Vocabulary size: {}'.format(len(vectorize_layer.get_vocabulary())))\n"
   ]
  },
  {
   "cell_type": "code",
   "execution_count": 34,
   "id": "6cd6ef82",
   "metadata": {},
   "outputs": [],
   "source": [
    "size = len(y_train_tx)"
   ]
  },
  {
   "cell_type": "code",
   "execution_count": 89,
   "id": "ac964c57",
   "metadata": {},
   "outputs": [
    {
     "name": "stdout",
     "output_type": "stream",
     "text": [
      "train size - 646400 val size - 161600\n"
     ]
    }
   ],
   "source": [
    "train_idx = int(size*0.8)\n",
    "val_idx = int(size*0.2)\n",
    "print(f\"train size - {train_idx} val size - {val_idx}\")\n",
    "\n",
    "X_traning_ds = X_train[0:train_idx]\n",
    "y_train_ds = y_train_tx[0:train_idx]\n",
    "X_val_ds = X_train[train_idx:train_idx+val_idx]\n",
    "y_val_ds = y_train_tx[train_idx:train_idx+val_idx]"
   ]
  },
  {
   "cell_type": "code",
   "execution_count": 92,
   "id": "010eb9fc",
   "metadata": {},
   "outputs": [
    {
     "name": "stdout",
     "output_type": "stream",
     "text": [
      "Training - (646400,) Val - (161600,)\n",
      "Training - 646400 Val - 161600\n"
     ]
    }
   ],
   "source": [
    "print(f\"Training - {X_traning_ds.shape} Val - {X_val_ds.shape}\")\n",
    "print(f\"Training - {len(y_train_ds)} Val - {len(y_val_ds)}\")"
   ]
  },
  {
   "cell_type": "code",
   "execution_count": 93,
   "id": "19c37de5",
   "metadata": {},
   "outputs": [],
   "source": [
    "\n",
    "raw_train = tf.data.Dataset.from_tensor_slices((X_traning_ds, y_train_ds))\n",
    "raw_val = tf.data.Dataset.from_tensor_slices((X_val_ds, y_val_ds))\n",
    "raw_test = tf.data.Dataset.from_tensor_slices((X_test, y_test_tx))\n"
   ]
  },
  {
   "cell_type": "code",
   "execution_count": 125,
   "id": "a3b3bf77",
   "metadata": {},
   "outputs": [],
   "source": [
    "train_ds = raw_train.map(vectorize_text)\n",
    "val_ds = raw_val.map(vectorize_text)\n",
    "test_ds = raw_test.map(vectorize_text)"
   ]
  },
  {
   "cell_type": "code",
   "execution_count": 109,
   "id": "dfbcedd4",
   "metadata": {},
   "outputs": [
    {
     "name": "stdout",
     "output_type": "stream",
     "text": [
      "tf.Tensor(\n",
      "[[27  2  9  2 23  2 30 11  0  0  0  0  0  0  0  0  0  0  0  0  0  0  0  0\n",
      "   0  0  0  0  0  0  0  0  0  0  0  0  0  0  0  0  0  0  0  0  0  0  0  0\n",
      "   0  0]], shape=(1, 50), dtype=int64)\n",
      "tf.Tensor(64, shape=(), dtype=int32)\n"
     ]
    }
   ],
   "source": [
    "text_batch, label_batch = next(iter(train_ds))\n",
    "print(text_batch)\n",
    "print(label_batch)"
   ]
  },
  {
   "cell_type": "code",
   "execution_count": 132,
   "id": "311bc8d7",
   "metadata": {},
   "outputs": [],
   "source": [
    "BUFFER_SIZE = 1000\n",
    "BATCH_SIZE = 128\n",
    "\n",
    "\n",
    "fin_train_ds = train_ds.shuffle(buffer_size=BUFFER_SIZE).batch(batch_size=BATCH_SIZE,drop_remainder=True)\n",
    "fin_val_ds = val_ds.batch(batch_size=BATCH_SIZE,drop_remainder=True)\n",
    "fin_test_ds = test_ds.batch(batch_size=BATCH_SIZE,drop_remainder=True)"
   ]
  },
  {
   "cell_type": "code",
   "execution_count": 133,
   "id": "9cfdcaac",
   "metadata": {},
   "outputs": [
    {
     "name": "stdout",
     "output_type": "stream",
     "text": [
      "tf.Tensor(\n",
      "[[32 27  2 ...  0  0  0]\n",
      " [27  2  9 ...  0  0  0]\n",
      " [32 27  2 ...  0  0  0]\n",
      " ...\n",
      " [30 27  2 ...  0  0  0]\n",
      " [27  2  9 ...  0  0  0]\n",
      " [27  2  9 ...  0  0  0]], shape=(128, 50), dtype=int64)\n",
      "tf.Tensor(\n",
      "[64 64 64 64 64 64 64 64 64 64 64 64 64 64 64 64 64 64 64 64 64 64 64 64\n",
      " 64 64 64 64 64 64 64 64 64 64 64 64 64 64 64 64 64 64 64 64 64 64 64 64\n",
      " 64 64 64 64 64 64 64 64 64 64 64 64 64 64 64 64 64 64 64 64 64 64 64 64\n",
      " 64 64 64 64 64 64 64 64 64 64 64 64 64 64 64 64 64 64 64 64 64 64 64 64\n",
      " 64 64 64 64 64 64 64 64 64 64 64 64 64 64 64 64 64 64 64 64 64 64 64 64\n",
      " 64 64 64 64 64 64 64 64], shape=(128,), dtype=int32)\n"
     ]
    }
   ],
   "source": [
    "text_batch, label_batch = next(iter(fin_train_ds))\n",
    "print(text_batch)\n",
    "print(label_batch)\n",
    "    "
   ]
  },
  {
   "cell_type": "code",
   "execution_count": 138,
   "id": "d4369e35",
   "metadata": {},
   "outputs": [],
   "source": [
    "embedding_dim = 16\n",
    "\n",
    "\n",
    "def get_model(embedding_dim,max_features):\n",
    "    model = tf.keras.Sequential([\n",
    "          layers.Embedding(max_features + 1, embedding_dim),\n",
    "          layers.Bidirectional(layers.LSTM(128)),\n",
    "          layers.Dropout(0.2),\n",
    "          layers.Dense(128,activation='tanh', kernel_regularizer='l2'),\n",
    "          layers.Dropout(0.2),\n",
    "          layers.Dense(101, activation='softmax')])\n",
    "    model.summary()\n",
    "    return model"
   ]
  },
  {
   "cell_type": "code",
   "execution_count": 139,
   "id": "bb6142db",
   "metadata": {},
   "outputs": [
    {
     "name": "stdout",
     "output_type": "stream",
     "text": [
      "Model: \"sequential_6\"\n",
      "_________________________________________________________________\n",
      " Layer (type)                Output Shape              Param #   \n",
      "=================================================================\n",
      " embedding_6 (Embedding)     (None, None, 16)          1616      \n",
      "                                                                 \n",
      " bidirectional_6 (Bidirectio  (None, 256)              148480    \n",
      " nal)                                                            \n",
      "                                                                 \n",
      " dropout_6 (Dropout)         (None, 256)               0         \n",
      "                                                                 \n",
      " dense_6 (Dense)             (None, 128)               32896     \n",
      "                                                                 \n",
      " dropout_7 (Dropout)         (None, 128)               0         \n",
      "                                                                 \n",
      " dense_7 (Dense)             (None, 101)               13029     \n",
      "                                                                 \n",
      "=================================================================\n",
      "Total params: 196,021\n",
      "Trainable params: 196,021\n",
      "Non-trainable params: 0\n",
      "_________________________________________________________________\n"
     ]
    }
   ],
   "source": [
    "model = get_model(embedding_dim,max_features)"
   ]
  },
  {
   "cell_type": "code",
   "execution_count": 140,
   "id": "e0dada49",
   "metadata": {},
   "outputs": [],
   "source": [
    "## The loss function and the metrics need to be compliant to get good results\n",
    "\n",
    "model.compile(loss=tf.keras.losses.SparseCategoricalCrossentropy(from_logits=False),\n",
    "              optimizer= 'adam',\n",
    "              metrics=tf.keras.metrics.SparseCategoricalAccuracy()\n",
    "             )"
   ]
  },
  {
   "cell_type": "code",
   "execution_count": 141,
   "id": "1e01be4d",
   "metadata": {},
   "outputs": [
    {
     "name": "stdout",
     "output_type": "stream",
     "text": [
      "Epoch 1/10\n",
      "5050/5050 [==============================] - 191s 38ms/step - loss: 1.7296 - sparse_categorical_accuracy: 0.7328 - val_loss: 0.7028 - val_sparse_categorical_accuracy: 0.9509\n",
      "Epoch 2/10\n",
      "5050/5050 [==============================] - 189s 37ms/step - loss: 0.5485 - sparse_categorical_accuracy: 0.9349 - val_loss: 0.6568 - val_sparse_categorical_accuracy: 0.9509\n",
      "Epoch 3/10\n",
      "5050/5050 [==============================] - 186s 37ms/step - loss: 0.3551 - sparse_categorical_accuracy: 0.9655 - val_loss: 0.6813 - val_sparse_categorical_accuracy: 0.9509\n",
      "Epoch 4/10\n",
      "5050/5050 [==============================] - 187s 37ms/step - loss: 0.2226 - sparse_categorical_accuracy: 0.9815 - val_loss: 0.7143 - val_sparse_categorical_accuracy: 0.9509\n",
      "Epoch 5/10\n",
      "5050/5050 [==============================] - 186s 37ms/step - loss: 0.1928 - sparse_categorical_accuracy: 0.9850 - val_loss: 0.7319 - val_sparse_categorical_accuracy: 0.9509\n",
      "Epoch 6/10\n",
      "5050/5050 [==============================] - 186s 37ms/step - loss: 0.1245 - sparse_categorical_accuracy: 0.9918 - val_loss: 0.7570 - val_sparse_categorical_accuracy: 0.9509\n",
      "Epoch 7/10\n",
      "5050/5050 [==============================] - 185s 37ms/step - loss: 0.0999 - sparse_categorical_accuracy: 0.9943 - val_loss: 0.7702 - val_sparse_categorical_accuracy: 0.9509\n",
      "Epoch 8/10\n",
      "5050/5050 [==============================] - 188s 37ms/step - loss: 0.0851 - sparse_categorical_accuracy: 0.9954 - val_loss: 0.7570 - val_sparse_categorical_accuracy: 0.9509\n",
      "Epoch 9/10\n",
      "5050/5050 [==============================] - 188s 37ms/step - loss: 0.0627 - sparse_categorical_accuracy: 0.9970 - val_loss: 0.7614 - val_sparse_categorical_accuracy: 0.9509\n",
      "Epoch 10/10\n",
      "5050/5050 [==============================] - 185s 37ms/step - loss: 0.0812 - sparse_categorical_accuracy: 0.9960 - val_loss: 0.7620 - val_sparse_categorical_accuracy: 0.9509\n"
     ]
    }
   ],
   "source": [
    "epochs = 10\n",
    "history = model.fit(\n",
    "    fin_train_ds,\n",
    "    validation_data=fin_val_ds,\n",
    "    epochs=epochs)"
   ]
  },
  {
   "cell_type": "code",
   "execution_count": 157,
   "id": "747a2638",
   "metadata": {},
   "outputs": [
    {
     "name": "stdout",
     "output_type": "stream",
     "text": [
      "1578/1578 [==============================] - 20s 13ms/step - loss: 0.2335 - sparse_categorical_accuracy: 0.9743\n",
      "Loss:  0.23351739346981049\n",
      "Accuracy:  0.97431480884552\n"
     ]
    }
   ],
   "source": [
    "# lets evaluate the model on the unseen test dataset\n",
    "loss, accuracy = model.evaluate(fin_test_ds)\n",
    "\n",
    "print(\"Loss: \", loss)\n",
    "print(\"Accuracy: \", accuracy)"
   ]
  },
  {
   "cell_type": "code",
   "execution_count": 158,
   "id": "1d9250e5",
   "metadata": {},
   "outputs": [
    {
     "data": {
      "text/plain": [
       "dict_keys(['loss', 'sparse_categorical_accuracy', 'val_loss', 'val_sparse_categorical_accuracy'])"
      ]
     },
     "execution_count": 158,
     "metadata": {},
     "output_type": "execute_result"
    }
   ],
   "source": [
    "history_dict = history.history\n",
    "history_dict.keys()"
   ]
  },
  {
   "cell_type": "code",
   "execution_count": 160,
   "id": "99894024",
   "metadata": {},
   "outputs": [
    {
     "data": {
      "image/png": "[encoded data removed]",
      "text/plain": [
       "<Figure size 640x480 with 1 Axes>"
      ]
     },
     "metadata": {},
     "output_type": "display_data"
    }
   ],
   "source": [
    "import matplotlib.pyplot as plt\n",
    "\n",
    "acc = history_dict['sparse_categorical_accuracy']\n",
    "val_acc = history_dict['val_sparse_categorical_accuracy']\n",
    "loss = history_dict['loss']\n",
    "val_loss = history_dict['val_loss']\n",
    "\n",
    "epochs = range(1, len(acc) + 1)\n",
    "\n",
    "# \"bo\" is for \"blue dot\"\n",
    "plt.plot(epochs, loss, 'bo', label='Training loss')\n",
    "# b is for \"solid blue line\"\n",
    "plt.plot(epochs, val_loss, 'b', label='Validation loss')\n",
    "plt.title('Training and validation loss')\n",
    "plt.xlabel('Epochs')\n",
    "plt.ylabel('Loss')\n",
    "plt.legend()\n",
    "\n",
    "plt.show()\n"
   ]
  },
  {
   "cell_type": "code",
   "execution_count": 161,
   "id": "b600c1c2",
   "metadata": {},
   "outputs": [
    {
     "data": {
      "image/png": "[encoded data removed]",
      "text/plain": [
       "<Figure size 640x480 with 1 Axes>"
      ]
     },
     "metadata": {},
     "output_type": "display_data"
    }
   ],
   "source": [
    "plt.plot(epochs, acc, 'bo', label='Training acc')\n",
    "plt.plot(epochs, val_acc, 'b', label='Validation acc')\n",
    "plt.title('Training and validation accuracy')\n",
    "plt.xlabel('Epochs')\n",
    "plt.ylabel('Accuracy')\n",
    "plt.legend(loc='lower right')\n",
    "\n",
    "plt.show()"
   ]
  },
  {
   "cell_type": "code",
   "execution_count": 233,
   "id": "9d061bed",
   "metadata": {},
   "outputs": [],
   "source": [
    "def _top_3_classes(logits):\n",
    "    df = pd.DataFrame(\n",
    "        {\"logits\":logits,\n",
    "         \"idx\":[x for x in range(len(logits))]\n",
    "        })\n",
    "    top3 = df.sort_values(by = 'logits', ascending=False)['idx'].head(3).values\n",
    "    return top3\n",
    "    \n",
    "\n",
    "def predict_new_word(word:str)-> str:\n",
    "    # we will vectorize the word\n",
    "    vec_word = vectorize_layer(word)\n",
    "    # reshape to the shae model expects\n",
    "    vec_word = vec_word.numpy().reshape(1,50)\n",
    "    # call predict functions\n",
    "    predicted = model.predict(vec_word)\n",
    "    predicted_idx = np.argmax(predicted)\n",
    "    predicted_conf = predicted[0][predicted_idx]\n",
    "    predicted_label = index_to_labels(predicted_idx)\n",
    "    print(f\"received - {word} predicted - {predicted_label} with confidence of {predicted_conf}\")\n",
    "    top3 = _top_3_classes(predicted.reshape(101))\n",
    "    top3_labels = []\n",
    "    for i in top3:\n",
    "        top3_labels.append(index_to_labels(i))\n",
    "    print(f\"The top 3 are - {top3_labels} - {top3}\")\n",
    "    return predicted_label,predicted \n"
   ]
  },
  {
   "cell_type": "code",
   "execution_count": 234,
   "id": "962ff90b",
   "metadata": {},
   "outputs": [
    {
     "name": "stdout",
     "output_type": "stream",
     "text": [
      "1/1 [==============================] - 0s 51ms/step\n",
      "received - 7a G3 7 predicted - Aldi with confidence of 0.3645141124725342\n",
      "The top 3 are - ['Aldi', 'Gap', 'Hy Vee'] - [29 75 14]\n"
     ]
    },
    {
     "data": {
      "text/plain": [
       "('Aldi',\n",
       " array([[7.57307222e-04, 2.16645440e-05, 4.71109757e-03, 7.25210043e-07,\n",
       "         2.30606794e-02, 1.20367086e-03, 7.17962621e-06, 9.80963450e-05,\n",
       "         3.33030679e-04, 8.79876970e-05, 1.54696113e-06, 3.83287971e-03,\n",
       "         4.82999212e-06, 1.52741904e-05, 1.58086464e-01, 3.59356477e-07,\n",
       "         4.43499374e-07, 9.18046790e-05, 2.76669562e-05, 7.83645373e-05,\n",
       "         5.42997615e-04, 1.29792723e-03, 5.13234991e-04, 8.27359688e-03,\n",
       "         3.62932115e-05, 1.98609126e-03, 9.95933195e-04, 9.27112342e-05,\n",
       "         2.47205375e-04, 3.64514112e-01, 1.81550859e-04, 2.06978337e-04,\n",
       "         6.97483309e-04, 5.83010296e-05, 2.65220223e-07, 1.75009758e-04,\n",
       "         2.85768579e-06, 3.71873155e-02, 1.31593726e-03, 1.73121574e-04,\n",
       "         3.72105660e-06, 3.59302363e-03, 1.43397308e-04, 1.66135601e-06,\n",
       "         1.56783627e-03, 1.06089830e-03, 8.30752106e-06, 6.73441624e-04,\n",
       "         3.96865010e-02, 3.87525361e-05, 1.23350909e-02, 1.47566418e-04,\n",
       "         5.22788723e-05, 1.38733967e-07, 9.49970308e-06, 1.16311909e-04,\n",
       "         1.12527005e-05, 4.14884016e-05, 6.81970792e-04, 4.59338207e-06,\n",
       "         2.51872640e-04, 3.03505203e-06, 1.41008991e-06, 3.59497091e-04,\n",
       "         2.65485942e-05, 3.25077999e-04, 1.20948139e-03, 4.23031906e-03,\n",
       "         4.25527338e-04, 9.58756059e-02, 2.26311473e-04, 6.94575938e-05,\n",
       "         3.92066522e-06, 2.26062679e-04, 7.48978753e-04, 2.12115303e-01,\n",
       "         2.44488201e-05, 2.73107318e-04, 1.16056086e-04, 7.08578009e-05,\n",
       "         8.46153052e-05, 1.26969142e-04, 1.49398911e-04, 2.17590947e-04,\n",
       "         6.77797827e-04, 1.85311204e-04, 1.33450085e-05, 1.17493016e-06,\n",
       "         6.31459770e-05, 4.48363787e-03, 2.30046226e-05, 1.20262266e-03,\n",
       "         2.43552295e-05, 2.70395026e-06, 1.21351599e-03, 3.68591188e-03,\n",
       "         3.50861160e-06, 1.36087692e-04, 1.26326613e-05, 3.92904013e-07,\n",
       "         1.16757628e-05]], dtype=float32))"
      ]
     },
     "execution_count": 234,
     "metadata": {},
     "output_type": "execute_result"
    }
   ],
   "source": [
    "predict_new_word('7a G3 7')"
   ]
  },
  {
   "cell_type": "code",
   "execution_count": 238,
   "id": "b19cadc7",
   "metadata": {},
   "outputs": [
    {
     "name": "stdout",
     "output_type": "stream",
     "text": [
      "1/1 [==============================] - 0s 37ms/step\n",
      "received - 12321ueiajsidams predicted - Sherwin-Williams with confidence of 0.3320485055446625\n",
      "The top 3 are - ['Sherwin-Williams', 'True Value Co.', 'Meijer'] - [68 72 44]\n"
     ]
    },
    {
     "data": {
      "text/plain": [
       "('Sherwin-Williams',\n",
       " array([[1.23207197e-02, 4.04282298e-04, 2.44811468e-04, 1.07689742e-02,\n",
       "         6.02326218e-05, 2.84135807e-04, 3.98325879e-04, 5.33507155e-05,\n",
       "         1.21520745e-04, 1.91351774e-05, 5.76398452e-04, 2.51227786e-04,\n",
       "         3.28992680e-03, 1.06370871e-05, 4.82703699e-03, 4.93574131e-04,\n",
       "         3.74947488e-02, 4.28572716e-03, 9.57593601e-03, 5.85023127e-03,\n",
       "         9.37829353e-03, 3.25849764e-02, 3.15083074e-03, 2.48321355e-03,\n",
       "         3.90921836e-04, 1.71031585e-04, 5.97190857e-02, 1.40990363e-03,\n",
       "         5.27443226e-05, 2.11836174e-04, 1.34025631e-03, 1.67408885e-04,\n",
       "         5.84874069e-03, 1.88241098e-02, 1.15132029e-03, 2.61955807e-04,\n",
       "         1.07878027e-03, 6.93392794e-05, 5.88602480e-03, 5.88474737e-04,\n",
       "         1.58651219e-05, 4.82834410e-04, 7.28900122e-05, 6.98344142e-04,\n",
       "         9.26519707e-02, 4.95676541e-05, 8.96262645e-04, 6.85772533e-03,\n",
       "         8.90888696e-05, 9.81162520e-06, 5.02101611e-04, 2.07813317e-03,\n",
       "         2.92433752e-03, 1.42017393e-06, 1.80884507e-02, 1.00913294e-05,\n",
       "         7.43571715e-03, 2.31473614e-02, 1.16432921e-05, 5.30345365e-04,\n",
       "         6.95987837e-05, 7.84124655e-04, 1.17650712e-02, 5.23415976e-04,\n",
       "         7.88734251e-05, 1.37250128e-04, 5.42822909e-06, 4.76505593e-05,\n",
       "         3.32048506e-01, 1.52171679e-05, 1.34792307e-03, 6.90421672e-04,\n",
       "         1.23592488e-01, 7.73493739e-05, 1.82199248e-04, 2.13092659e-03,\n",
       "         2.20181979e-03, 5.36560779e-04, 1.93894317e-03, 8.07580131e-04,\n",
       "         4.11394276e-02, 2.20379225e-04, 2.03133021e-02, 6.90747693e-05,\n",
       "         1.14415819e-03, 1.28090775e-04, 7.61555275e-05, 1.00586822e-05,\n",
       "         2.08915467e-03, 2.17437954e-03, 1.03893154e-03, 9.01530869e-03,\n",
       "         3.05769820e-04, 7.48965365e-04, 1.26012659e-03, 8.53200210e-04,\n",
       "         5.15261432e-03, 8.66470073e-05, 8.56058265e-04, 3.66659649e-02,\n",
       "         5.01676928e-03]], dtype=float32))"
      ]
     },
     "execution_count": 238,
     "metadata": {},
     "output_type": "execute_result"
    }
   ],
   "source": [
    "predict_new_word('12321ueiajsidams')"
   ]
  },
  {
   "cell_type": "code",
   "execution_count": 239,
   "id": "02a4ae6a",
   "metadata": {},
   "outputs": [
    {
     "name": "stdout",
     "output_type": "stream",
     "text": [
      "1/1 [==============================] - 0s 20ms/step\n",
      "received - Target predicted - Target with confidence of 0.9963459372520447\n",
      "The top 3 are - ['Target', 'Rite Aid', 'RH'] - [38 88 21]\n"
     ]
    },
    {
     "data": {
      "text/plain": [
       "('Target',\n",
       " array([[6.88417545e-09, 9.40300779e-08, 3.32356032e-09, 1.65745533e-07,\n",
       "         3.46848665e-08, 6.04054862e-10, 3.53611455e-07, 1.40517307e-06,\n",
       "         2.49750941e-04, 4.40291430e-08, 2.47462413e-06, 2.31964165e-07,\n",
       "         1.75462571e-06, 8.84587514e-09, 6.90336310e-05, 2.98634927e-06,\n",
       "         1.14801605e-06, 1.63478518e-07, 3.13501114e-09, 6.67684560e-07,\n",
       "         3.69117311e-06, 5.27523749e-04, 1.34872580e-05, 5.63650531e-07,\n",
       "         3.02246667e-06, 5.67530662e-07, 3.99832206e-04, 2.25158786e-07,\n",
       "         4.99256370e-09, 6.28723283e-05, 6.70552538e-08, 5.56639124e-10,\n",
       "         3.55242752e-04, 1.57714430e-06, 8.03626608e-06, 2.68138063e-08,\n",
       "         5.05341859e-07, 4.56412236e-05, 9.96345937e-01, 2.52345126e-06,\n",
       "         2.24511514e-05, 9.62675949e-06, 1.12320104e-05, 2.46675264e-10,\n",
       "         2.97295155e-05, 1.41496196e-06, 2.72005991e-08, 7.04233543e-08,\n",
       "         1.01041849e-04, 3.63419045e-10, 3.43663487e-05, 4.33220384e-06,\n",
       "         1.23953854e-04, 1.53795809e-09, 2.42409010e-06, 9.89219331e-11,\n",
       "         6.68643861e-06, 7.76527784e-08, 3.41945395e-07, 5.34718595e-07,\n",
       "         3.27044376e-07, 1.06559560e-06, 4.10289616e-08, 2.06635486e-05,\n",
       "         3.60354054e-04, 6.89987512e-10, 2.22910694e-06, 1.05326727e-07,\n",
       "         1.73714830e-06, 4.39544667e-09, 5.37712276e-06, 9.51044058e-06,\n",
       "         9.07645756e-07, 1.19661036e-06, 1.77200974e-07, 6.42526575e-05,\n",
       "         3.26948424e-08, 5.39125331e-08, 8.78509567e-08, 1.90444325e-06,\n",
       "         3.55508973e-08, 8.05447598e-06, 9.13369647e-08, 3.79504399e-07,\n",
       "         1.78333037e-04, 2.36630214e-07, 7.18088913e-08, 2.17616023e-08,\n",
       "         7.49524450e-04, 7.55267138e-08, 9.75521353e-09, 6.21720133e-08,\n",
       "         3.17385314e-07, 1.18407726e-04, 1.39758445e-08, 1.74917125e-06,\n",
       "         1.59893501e-10, 8.84233242e-10, 4.32709335e-09, 2.23687857e-05,\n",
       "         1.93267141e-07]], dtype=float32))"
      ]
     },
     "execution_count": 239,
     "metadata": {},
     "output_type": "execute_result"
    }
   ],
   "source": [
    "predict_new_word('Target')"
   ]
  },
  {
   "cell_type": "code",
   "execution_count": 240,
   "id": "03921c4e",
   "metadata": {},
   "outputs": [
    {
     "name": "stdout",
     "output_type": "stream",
     "text": [
      "1/1 [==============================] - 0s 25ms/step\n",
      "received - T1argea214 predicted - Target with confidence of 0.41621917486190796\n",
      "The top 3 are - ['Target', 'Rite Aid', 'Tapestry'] - [38 88 42]\n"
     ]
    },
    {
     "data": {
      "text/plain": [
       "('Target',\n",
       " array([[9.64767241e-06, 4.79727078e-06, 9.45248246e-07, 1.42754521e-04,\n",
       "         2.98799732e-05, 1.71112532e-07, 4.41638877e-05, 2.85803253e-04,\n",
       "         2.77272817e-02, 4.68058079e-06, 5.18164504e-03, 3.24491411e-04,\n",
       "         1.13839051e-04, 5.82534012e-05, 1.03439488e-04, 2.33493885e-03,\n",
       "         2.18229904e-03, 7.13528207e-05, 6.99040975e-05, 3.96585732e-04,\n",
       "         9.53110703e-06, 1.40076748e-03, 5.48507378e-04, 4.97600879e-04,\n",
       "         1.89368124e-03, 2.45445008e-05, 6.18101563e-04, 3.30003604e-05,\n",
       "         9.09602968e-05, 7.28232990e-05, 5.18411935e-06, 1.40671858e-07,\n",
       "         4.72877175e-04, 6.58453209e-04, 1.12658367e-02, 5.09837582e-06,\n",
       "         3.22629837e-03, 1.53873069e-02, 4.16219175e-01, 5.23982199e-05,\n",
       "         2.40449514e-02, 2.59085529e-04, 4.99654971e-02, 1.20573736e-06,\n",
       "         1.33658829e-03, 1.82019523e-03, 2.82585752e-05, 2.34600907e-06,\n",
       "         2.28579878e-03, 1.26634018e-06, 2.29755286e-04, 6.59380713e-03,\n",
       "         3.71060381e-03, 2.73456322e-07, 2.11892999e-04, 4.81889583e-06,\n",
       "         4.92035819e-04, 3.26683017e-04, 2.63374022e-05, 5.04848613e-05,\n",
       "         2.33531464e-03, 4.78101382e-03, 3.76112575e-06, 3.13180964e-04,\n",
       "         1.40246295e-04, 1.37074476e-05, 3.53298266e-04, 3.42999670e-07,\n",
       "         7.76357629e-05, 3.32545619e-06, 1.67433859e-03, 5.59611886e-04,\n",
       "         4.46951773e-04, 1.06336738e-04, 4.16851981e-06, 1.32442694e-02,\n",
       "         1.10599058e-06, 1.83731594e-04, 6.43603635e-05, 4.08864357e-02,\n",
       "         1.76890790e-05, 6.46044791e-04, 4.81489042e-05, 3.12917313e-04,\n",
       "         4.81880978e-02, 1.17188603e-04, 3.67589033e-04, 4.63227389e-06,\n",
       "         2.85812616e-01, 5.43747556e-05, 5.18382112e-05, 4.44225698e-05,\n",
       "         1.12407215e-05, 1.15493741e-02, 5.70343309e-06, 5.91110147e-04,\n",
       "         4.55096824e-06, 8.23037283e-07, 2.69770444e-05, 3.12748668e-03,\n",
       "         8.62862624e-04]], dtype=float32))"
      ]
     },
     "execution_count": 240,
     "metadata": {},
     "output_type": "execute_result"
    }
   ],
   "source": [
    "predict_new_word('T1argea214')"
   ]
  },
  {
   "cell_type": "code",
   "execution_count": 241,
   "id": "a2890d03",
   "metadata": {},
   "outputs": [
    {
     "name": "stdout",
     "output_type": "stream",
     "text": [
      "1/1 [==============================] - 0s 47ms/step\n",
      "received - T1argea214 predicted - Target with confidence of 0.41621917486190796\n",
      "The top 3 are - ['Target', 'Rite Aid', 'Tapestry'] - [38 88 42]\n"
     ]
    }
   ],
   "source": [
    "label, logits = predict_new_word('T1argea214')"
   ]
  },
  {
   "cell_type": "code",
   "execution_count": null,
   "id": "293b5d56",
   "metadata": {},
   "outputs": [],
   "source": []
  }
 ],
 "metadata": {
  "kernelspec": {
   "display_name": "python 3.10 (ml)",
   "language": "python",
   "name": "ml-tensorflow"
  },
  "language_info": {
   "codemirror_mode": {
    "name": "ipython",
    "version": 3
   },
   "file_extension": ".py",
   "mimetype": "text/x-python",
   "name": "python",
   "nbconvert_exporter": "python",
   "pygments_lexer": "ipython3",
   "version": "3.10.10"
  }
 },
 "nbformat": 4,
 "nbformat_minor": 5
}
